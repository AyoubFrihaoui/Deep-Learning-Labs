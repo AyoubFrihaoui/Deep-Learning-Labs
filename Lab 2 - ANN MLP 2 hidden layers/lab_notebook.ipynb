{
 "cells": [
  {
   "cell_type": "code",
   "execution_count": 1,
   "metadata": {},
   "outputs": [
    {
     "name": "stdout",
     "output_type": "stream",
     "text": [
      "WARNING:tensorflow:From c:\\Python311\\Lib\\site-packages\\keras\\src\\losses.py:2976: The name tf.losses.sparse_softmax_cross_entropy is deprecated. Please use tf.compat.v1.losses.sparse_softmax_cross_entropy instead.\n",
      "\n"
     ]
    }
   ],
   "source": [
    "from tensorflow.keras.datasets import mnist\n",
    "from tensorflow.keras.utils import to_categorical\n",
    "from tensorflow.keras.models import Sequential\n",
    "from tensorflow.keras.layers import Dense\n",
    "from tensorflow.keras.callbacks import EarlyStopping\n",
    "from tensorflow.keras.optimizers import SGD, Adam, RMSprop\n",
    "from sklearn.model_selection import train_test_split\n",
    "from time import time\n",
    "import numpy as np\n",
    "from matplotlib import pyplot as plt"
   ]
  },
  {
   "cell_type": "code",
   "execution_count": 2,
   "metadata": {},
   "outputs": [],
   "source": [
    "\n",
    "def create_model():\n",
    "  model = Sequential()\n",
    "  model.add(Dense(128, activation='relu', input_shape=(28 * 28,)))\n",
    "  model.add(Dense(64, activation='relu'))\n",
    "  model.add(Dense(10, activation='softmax'))\n",
    "  return model\n",
    "\n",
    "def train_model(optimizer_name, lr=0.01, X_train=None, y_train=None, X_val=None, y_val=None, epochs=50):\n",
    "  start_time = time()\n",
    "  batch_size = None\n",
    "  model = create_model()\n",
    "  if optimizer_name == \"SGD\":\n",
    "    optimizer = SGD(lr=lr, weight_decay=0, momentum=0.0)\n",
    "    batch_size = 1\n",
    "  elif optimizer_name == \"Mini-batch SGD\":\n",
    "    optimizer = SGD(lr=lr, weight_decay=0, momentum=0.0)\n",
    "    batch_size = 64\n",
    "  elif optimizer_name == \"Batch SGD\":\n",
    "    optimizer = SGD(lr=lr, weight_decay=0, momentum=0.0)\n",
    "    batch_size = X_train.shape[0]\n",
    "  elif optimizer_name == \"Mini-batch SGD with Decay\":\n",
    "    optimizer = SGD(lr=lr, weight_decay=1e-6, momentum=0.0)\n",
    "  elif optimizer_name == \"SGD with Decay and Momentum\":\n",
    "    optimizer = SGD(lr=lr, weight_decay=1e-6, momentum=0.9)\n",
    "    batch_size = 1\n",
    "  elif optimizer_name == \"Adam\":\n",
    "    optimizer = Adam(lr=lr)\n",
    "  elif optimizer_name == \"RMSprop\":\n",
    "    optimizer = RMSprop(lr=lr)\n",
    "  else:\n",
    "    raise ValueError(f\"Invalid optimizer name: {optimizer_name}\")\n",
    "  model.compile(loss='categorical_crossentropy', optimizer=optimizer, metrics=['accuracy'])\n",
    "  early_stopping = EarlyStopping(monitor='val_loss', patience=5)\n",
    "  print(batch_size)\n",
    "  history = model.fit(X_train, y_train, epochs=epochs, validation_data=(X_val, y_val), batch_size=batch_size)\n",
    "  end_time = time()\n",
    "  training_time = end_time - start_time\n",
    "\n",
    "  # Track best model based on validation accuracy\n",
    "  best_model = model\n",
    "  best_val_acc = max(history.history['val_accuracy'])\n",
    "  for i in range(len(history.history['val_accuracy'])):\n",
    "    if history.history['val_accuracy'][i] == best_val_acc:\n",
    "      best_model = model.get_weights()\n",
    "      break\n",
    "\n",
    "  # Plot learning curves\n",
    "  plt.plot(history.history['loss'], label=f'Training Loss ({optimizer_name})')\n",
    "  plt.plot(history.history['val_loss'], label=f'Validation Loss ({optimizer_name})')\n",
    "  plt.plot(history.history['accuracy'], label=f'Training Accuracy ({optimizer_name})')\n",
    "  plt.plot(history.history['val_accuracy'], label=f'Validation Accuracy ({optimizer_name})')\n",
    "  plt.title(f'Learning Curves ({optimizer_name})')\n",
    "  plt.xlabel('Epoch')\n",
    "  plt.ylabel('Loss/Accuracy')\n",
    "  plt.legend()\n",
    "  plt.show()\n",
    "\n",
    "  return history, training_time, best_model\n",
    "\n",
    "# Load and preprocess MNIST data\n",
    "(train_images, train_labels), (test_images, test_labels) = mnist.load_data()\n",
    "train_images = train_images.reshape((train_images.shape[0], 28 * 28))\n",
    "test_images = test_images.reshape((test_images.shape[0], 28 * 28))\n",
    "train_images = train_images.astype('float32') / 255\n",
    "test_images = test_images.astype('float32') / 255\n",
    "num_classes = 10\n",
    "train_labels = to_categorical(train_labels, num_classes)\n"
   ]
  },
  {
   "cell_type": "code",
   "execution_count": 3,
   "metadata": {},
   "outputs": [
    {
     "name": "stdout",
     "output_type": "stream",
     "text": [
      "SGD\n",
      "WARNING:tensorflow:From c:\\Python311\\Lib\\site-packages\\keras\\src\\backend.py:873: The name tf.get_default_graph is deprecated. Please use tf.compat.v1.get_default_graph instead.\n",
      "\n"
     ]
    },
    {
     "name": "stderr",
     "output_type": "stream",
     "text": [
      "WARNING:absl:`lr` is deprecated in Keras optimizer, please use `learning_rate` or use the legacy optimizer, e.g.,tf.keras.optimizers.legacy.SGD.\n"
     ]
    },
    {
     "name": "stdout",
     "output_type": "stream",
     "text": [
      "1\n",
      "Epoch 1/50\n",
      "WARNING:tensorflow:From c:\\Python311\\Lib\\site-packages\\keras\\src\\utils\\tf_utils.py:492: The name tf.ragged.RaggedTensorValue is deprecated. Please use tf.compat.v1.ragged.RaggedTensorValue instead.\n",
      "\n"
     ]
    },
    {
     "name": "stderr",
     "output_type": "stream",
     "text": [
      "WARNING:tensorflow:From c:\\Python311\\Lib\\site-packages\\keras\\src\\utils\\tf_utils.py:492: The name tf.ragged.RaggedTensorValue is deprecated. Please use tf.compat.v1.ragged.RaggedTensorValue instead.\n",
      "\n"
     ]
    },
    {
     "name": "stdout",
     "output_type": "stream",
     "text": [
      "WARNING:tensorflow:From c:\\Python311\\Lib\\site-packages\\keras\\src\\engine\\base_layer_utils.py:384: The name tf.executing_eagerly_outside_functions is deprecated. Please use tf.compat.v1.executing_eagerly_outside_functions instead.\n",
      "\n"
     ]
    },
    {
     "name": "stderr",
     "output_type": "stream",
     "text": [
      "WARNING:tensorflow:From c:\\Python311\\Lib\\site-packages\\keras\\src\\engine\\base_layer_utils.py:384: The name tf.executing_eagerly_outside_functions is deprecated. Please use tf.compat.v1.executing_eagerly_outside_functions instead.\n",
      "\n"
     ]
    },
    {
     "name": "stdout",
     "output_type": "stream",
     "text": [
      "48000/48000 [==============================] - 82s 2ms/step - loss: 0.2515 - accuracy: 0.9241 - val_loss: 0.1344 - val_accuracy: 0.9592\n",
      "Epoch 2/50\n",
      "48000/48000 [==============================] - 86s 2ms/step - loss: 0.1209 - accuracy: 0.9626 - val_loss: 0.1036 - val_accuracy: 0.9704\n",
      "Epoch 3/50\n",
      "48000/48000 [==============================] - 95s 2ms/step - loss: 0.0853 - accuracy: 0.9723 - val_loss: 0.1231 - val_accuracy: 0.9666\n",
      "Epoch 4/50\n",
      "48000/48000 [==============================] - 85s 2ms/step - loss: 0.0699 - accuracy: 0.9779 - val_loss: 0.1047 - val_accuracy: 0.9709\n",
      "Epoch 5/50\n",
      "48000/48000 [==============================] - 84s 2ms/step - loss: 0.0528 - accuracy: 0.9832 - val_loss: 0.1236 - val_accuracy: 0.9676\n",
      "Epoch 6/50\n",
      "48000/48000 [==============================] - 85s 2ms/step - loss: 0.0453 - accuracy: 0.9851 - val_loss: 0.0987 - val_accuracy: 0.9732\n",
      "Epoch 7/50\n",
      "48000/48000 [==============================] - 85s 2ms/step - loss: 0.0374 - accuracy: 0.9874 - val_loss: 0.1232 - val_accuracy: 0.9704\n",
      "Epoch 8/50\n",
      "48000/48000 [==============================] - 88s 2ms/step - loss: 0.0362 - accuracy: 0.9880 - val_loss: 0.1040 - val_accuracy: 0.9758\n",
      "Epoch 9/50\n",
      "48000/48000 [==============================] - 86s 2ms/step - loss: 0.0311 - accuracy: 0.9897 - val_loss: 0.1080 - val_accuracy: 0.9749\n",
      "Epoch 10/50\n",
      "48000/48000 [==============================] - 85s 2ms/step - loss: 0.0263 - accuracy: 0.9915 - val_loss: 0.1353 - val_accuracy: 0.9678\n",
      "Epoch 11/50\n",
      "48000/48000 [==============================] - 93s 2ms/step - loss: 0.0237 - accuracy: 0.9926 - val_loss: 0.1281 - val_accuracy: 0.9713\n",
      "Epoch 12/50\n",
      "48000/48000 [==============================] - 83s 2ms/step - loss: 0.0210 - accuracy: 0.9936 - val_loss: 0.1235 - val_accuracy: 0.9757\n",
      "Epoch 13/50\n",
      "48000/48000 [==============================] - 82s 2ms/step - loss: 0.0221 - accuracy: 0.9929 - val_loss: 0.1132 - val_accuracy: 0.9778\n",
      "Epoch 14/50\n",
      "48000/48000 [==============================] - 105s 2ms/step - loss: 0.0148 - accuracy: 0.9950 - val_loss: 0.1218 - val_accuracy: 0.9789\n",
      "Epoch 15/50\n",
      "47996/48000 [============================>.] - ETA: 0s - loss: 0.0244 - accuracy: 0.9926"
     ]
    }
   ],
   "source": [
    "# Split train set into train and validation sets\n",
    "X_train, X_val, y_train, y_val = train_test_split(train_images, train_labels, test_size=0.2)\n",
    "\n",
    "# Train models with different optimizers\n",
    "optimizers = [\"SGD\", \"Mini-batch SGD\", \"Batch SGD\", \"Mini-batch SGD with Decay\", \"SGD with Decay and Momentum\", \"Adam\", \"RMSprop\"]\n",
    "training_times = {}\n",
    "best_models = {}\n",
    "for optimizer in optimizers:\n",
    "  print(optimizer)\n",
    "  history, training_time, best_model = train_model(optimizer, X_train=X_train, y_train=y_train, X_val=X_val, y_val=y_val)\n",
    "  training_times[optimizer] = training_time\n",
    "  best_models[optimizer] = best_model\n",
    "\n",
    "# Print training times\n",
    "print(\"Training Time Comparison:\")\n",
    "for optimizer, time in training_times.items():\n",
    "  print(f\"{optimizer}: {time:.2f} seconds\")\n",
    "\n",
    "# Select the best model based on validation accuracy (replace with your choice)\n",
    "# Assuming SGD with Decay and Momentum performed best\n",
    "best_model_weights = best_models[\"SGD with Decay and Momentum\"]\n",
    "\n",
    "# Save the best model (weights only)\n",
    "model = create_model()\n",
    "model.set_weights(best_model_weights)\n",
    "model.save(\"best_model.h5\")\n",
    "\n",
    "# Define a function to load the model (optional, for reusability)\n",
    "def load_model(filepath):\n",
    "  model = create_model()\n",
    "  model.load_weights(filepath)\n",
    "  return model\n",
    "\n",
    "# Load the exported model\n",
    "loaded_model = load_model(\"best_model.h5\")\n",
    "\n",
    "# Prepare some test set samples for prediction\n",
    "test_sample1 = test_images[0]  # Select a sample from the test set\n",
    "test_sample2 = test_images[1]  # Select another sample for prediction\n",
    "\n",
    "# Make predictions on the test samples\n",
    "predictions1 = loaded_model.predict(np.array([test_sample1]))  # Reshape for single sample prediction\n",
    "predictions2 = loaded_model.predict(np.array([test_sample2]))\n",
    "\n",
    "# Print the predicted class labels (assuming predictions have probabilities)\n",
    "predicted_class1 = np.argmax(predictions1[0])\n",
    "predicted_class2 = np.argmax(predictions2[0])\n",
    "print(f\"Predicted Class for Sample 1: {predicted_class1}\")\n",
    "print(f\"Predicted Class for Sample 2: {predicted_class2}\")\n"
   ]
  }
 ],
 "metadata": {
  "kernelspec": {
   "display_name": "Python 3",
   "language": "python",
   "name": "python3"
  },
  "language_info": {
   "codemirror_mode": {
    "name": "ipython",
    "version": 3
   },
   "file_extension": ".py",
   "mimetype": "text/x-python",
   "name": "python",
   "nbconvert_exporter": "python",
   "pygments_lexer": "ipython3",
   "version": "3.11.4"
  }
 },
 "nbformat": 4,
 "nbformat_minor": 2
}
